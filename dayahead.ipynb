{
 "cells": [
  {
   "cell_type": "code",
   "execution_count": null,
   "metadata": {},
   "outputs": [],
   "source": [
    "import gurobipy as gp\n",
    "from gurobipy import GRB\n",
    "import numpy as np\n",
    "import os"
   ]
  },
  {
   "cell_type": "markdown",
   "metadata": {},
   "source": [
    "Define constants"
   ]
  },
  {
   "cell_type": "code",
   "execution_count": null,
   "metadata": {},
   "outputs": [],
   "source": [
    "HOURS_IN_DAY = 48\n",
    "M = 5  # Number of shiftable loads\n",
    "N = 5  # Number of non-shiftable loads\n",
    "os.environ[\"GRB_LICENSE_FILE\"] = \"./gurobi.lic\"\n",
    "\n",
    "# Create a new model\n",
    "model = gp.Model()"
   ]
  },
  {
   "cell_type": "markdown",
   "metadata": {},
   "source": [
    "Define variables"
   ]
  },
  {
   "cell_type": "code",
   "execution_count": null,
   "metadata": {},
   "outputs": [],
   "source": [
    "gamma_m = model.addMVar((HOURS_IN_DAY,M), vtype=GRB.CONTINUOUS, name=\"gamma_m\")\n",
    "gamma_n = model.addMVar((HOURS_IN_DAY,N), vtype=GRB.CONTINUOUS, name=\"gamma_n\")\n",
    "P_m = model.addMVar((HOURS_IN_DAY,M), vtype=GRB.CONTINUOUS, name=\"P_m\")\n",
    "P_n = model.addMVar((HOURS_IN_DAY,N), vtype=GRB.CONTINUOUS, name=\"P_n\")\n",
    "Tu_set = model.addVars(HOURS_IN_DAY,vtype=GRB.CONTINUOUS, name=\"Tu_set\")\n",
    "Tu_req = model.addVars(HOURS_IN_DAY,vtype=GRB.CONTINUOUS, name=\"Tu_req\")"
   ]
  },
  {
   "cell_type": "markdown",
   "metadata": {},
   "source": [
    "Define parameters"
   ]
  },
  {
   "cell_type": "code",
   "execution_count": null,
   "metadata": {},
   "outputs": [],
   "source": [
    "E_m = np.random.rand(M)  # Random energy values for demonstration\n",
    "E_n = np.random.rand(N)  # Random energy values for demonstration\n",
    "P_min = 0\n",
    "#P_ul is the onsite power produced\n",
    "P_ul = 50\n",
    "P_max = 100\n",
    "T_min = 18\n",
    "T_max = 25\n",
    "kG = 0.1  # Price of power from the grid\n",
    "dissatisfaction_cost = 0.5  # Fixed dissatisfaction cost per unit change in temperature\n",
    "start_shiftable_loads = 16  # Start of shiftable loads\n",
    "end_shiftable_loads = 44  # End of shiftable loads"
   ]
  },
  {
   "cell_type": "markdown",
   "metadata": {},
   "source": [
    "Set objective function"
   ]
  },
  {
   "cell_type": "code",
   "execution_count": null,
   "metadata": {},
   "outputs": [],
   "source": [
    "objective = gp.quicksum((gp.quicksum(gamma_m[h][m]*P_m[h][m] for m in range(M)) + gp.quicksum(gamma_n[h][n]*P_n[h][n] for n in range(N)) - P_ul) for h in range(HOURS_IN_DAY)) * kG + dissatisfaction_cost * gp.quicksum(Tu_set[h] - Tu_req[h] for h in range(HOURS_IN_DAY))\n",
    "model.setObjective(objective, GRB.MINIMIZE)"
   ]
  },
  {
   "cell_type": "markdown",
   "metadata": {},
   "source": [
    "Add constraints"
   ]
  },
  {
   "cell_type": "code",
   "execution_count": null,
   "metadata": {},
   "outputs": [],
   "source": [
    "for m in range(M):\n",
    "    model.addConstr(gp.quicksum(gamma_m[h][m] * P_m[h][m] for h in range(start_shiftable_loads, end_shiftable_loads)) == E_m[m])\n",
    "for n in range(N):\n",
    "    model.addConstr(gp.quicksum(gamma_n[h][n] * P_n[h][n] for h in range(start_shiftable_loads, end_shiftable_loads)) == E_n[n])\n",
    "\n",
    "for h in range(HOURS_IN_DAY):\n",
    "    model.addConstr(gp.quicksum(gamma_m[h][m] * P_m[h][m] for m in range(M)) + gp.quicksum(gamma_n[h][n] * P_n[h][n] for n in range(N)) >= 0)\n",
    "for h in range(HOURS_IN_DAY):\n",
    "    for m in range(M):\n",
    "        if start_shiftable_loads <= h <= end_shiftable_loads:\n",
    "            model.addConstr(P_m[h][m] >= 0)\n",
    "        else:\n",
    "            model.addConstr(gamma_m[h][m] >= 0)\n",
    "    for n in range(N):\n",
    "        if start_shiftable_loads <= h <= end_shiftable_loads:\n",
    "            model.addConstr(P_n[h][n] >= 0)\n",
    "        else:\n",
    "            model.addConstr(gamma_n[h][n] >= 0)\n",
    "\n",
    "for h in range(HOURS_IN_DAY):\n",
    "    model.addConstrs(P_m[h][m] >= P_min for m in range(M))\n",
    "    model.addConstrs(P_n[h][n] <= P_max for n in range(N))\n",
    "\n",
    "for h in range(HOURS_IN_DAY):\n",
    "    model.addConstr(Tu_set[h] >= T_min)\n",
    "    model.addConstr(Tu_set[h] <= T_max)\n",
    "    model.addConstr(Tu_req[h] >= T_min)\n",
    "    model.addConstr(Tu_req[h] <= T_max)\n"
   ]
  },
  {
   "cell_type": "markdown",
   "metadata": {},
   "source": [
    "Optimize the model"
   ]
  },
  {
   "cell_type": "code",
   "execution_count": null,
   "metadata": {},
   "outputs": [],
   "source": [
    "model.optimize()"
   ]
  },
  {
   "cell_type": "markdown",
   "metadata": {},
   "source": [
    "Display the results"
   ]
  },
  {
   "cell_type": "code",
   "execution_count": null,
   "metadata": {},
   "outputs": [],
   "source": [
    "print(\"Optimal gamma:\", [[gamma_m[h][m] for h in range(HOURS_IN_DAY)] for m in range(M)])\n",
    "print(\"Optimal P_m:\", [[P_m[h][m] for h in range(HOURS_IN_DAY)] for m in range(M)])\n",
    "print(\"Optimal P_n:\", [[P_m[h][n] for h in range(HOURS_IN_DAY)] for m in range(n)])\n",
    "print(\"Optimal Tu_set:\", [Tu_set[h] for h in range(HOURS_IN_DAY)])\n",
    "print(\"Optimal Tu_req:\", [Tu_req[h] for h in range(HOURS_IN_DAY)])\n",
    "print(\"Objective value:\", model.objVal)"
   ]
  },
  {
   "cell_type": "code",
   "execution_count": null,
   "metadata": {},
   "outputs": [],
   "source": [
    "import matplotlib.pyplot as plt"
   ]
  },
  {
   "cell_type": "code",
   "execution_count": null,
   "metadata": {},
   "outputs": [],
   "source": [
    "# Extract the optimal gamma_m values\n",
    "optimal_gamma_m = [[gamma_m[h][m].x for h in range(HOURS_IN_DAY)] for m in range(M)]\n",
    "\n",
    "# Plot gamma_m curves\n",
    "for m in range(M):\n",
    "    plt.plot(range(HOURS_IN_DAY), optimal_gamma_m[m], label=f\"Curve {m+1}\")\n",
    "\n",
    "# Set labels and title\n",
    "plt.xlabel(\"h\")\n",
    "plt.ylabel(\"gamma_m\")\n",
    "plt.title(\"Gamma_m Curves\")\n",
    "\n",
    "# Add legend\n",
    "plt.legend()\n",
    "\n",
    "# Save the plot\n",
    "plt.savefig(\"plot.png\")\n",
    "\n",
    "# Show the plot\n",
    "plt.show()\n",
    "\n",
    "# Create a new figure\n",
    "plt.figure()\n",
    "\n",
    "# Extract the optimal P_m values\n",
    "optimal_P_m = [[P_m[h][m].x for h in range(HOURS_IN_DAY)] for m in range(M)]\n",
    "\n",
    "# Plot P_m curves\n",
    "for m in range(M):\n",
    "    plt.plot(range(HOURS_IN_DAY), optimal_P_m[m], label=f\"P_m {m+1}\")\n",
    "\n",
    "# Set labels and title\n",
    "plt.xlabel(\"h\")\n",
    "plt.ylabel(\"P_m\")\n",
    "plt.title(\"P_m Curves\")\n",
    "\n",
    "# Add legend\n",
    "plt.legend()\n",
    "\n",
    "# Save the plot\n",
    "plt.savefig(\"P_m_plot.png\")\n",
    "\n",
    "# Show the plot\n",
    "plt.show()"
   ]
  },
  {
   "cell_type": "code",
   "execution_count": null,
   "metadata": {},
   "outputs": [],
   "source": [
    "# Create a new figure\n",
    "plt.figure()\n",
    "\n",
    "# Extract the optimal P_n values\n",
    "optimal_P_n = [[P_n[h][n].x for h in range(HOURS_IN_DAY)] for n in range(N)]\n",
    "\n",
    "# Plot P_n curves\n",
    "for n in range(N):\n",
    "    plt.plot(range(HOURS_IN_DAY), optimal_P_n[n], label=f\"P_n {n+1}\")\n",
    "\n",
    "# Set labels and title\n",
    "plt.xlabel(\"h\")\n",
    "plt.ylabel(\"P_n\")\n",
    "plt.title(\"P_n Curves\")\n",
    "\n",
    "# Add legend\n",
    "plt.legend()\n",
    "\n",
    "# Save the plot\n",
    "plt.savefig(\"P_n_plot.png\")\n",
    "\n",
    "# Show the plot\n",
    "plt.show()"
   ]
  }
 ],
 "metadata": {
  "language_info": {
   "name": "python"
  }
 },
 "nbformat": 4,
 "nbformat_minor": 2
}
